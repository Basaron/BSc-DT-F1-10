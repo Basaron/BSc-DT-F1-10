{
 "cells": [
  {
   "cell_type": "code",
   "execution_count": 22,
   "id": "9675cfb4-0d7e-4664-8332-36b8ad24f3a6",
   "metadata": {},
   "outputs": [
    {
     "data": {
      "text/plain": [
       "array([[0.],\n",
       "       [0.],\n",
       "       [0.],\n",
       "       [0.]])"
      ]
     },
     "execution_count": 22,
     "metadata": {},
     "output_type": "execute_result"
    }
   ],
   "source": [
    "import numpy as np\n",
    "import matplotlib.pyplot as plt\n",
    "import warnings\n",
    "warnings.filterwarnings('ignore')\n",
    "\n",
    "# x, y, theta, phi\n",
    "X = np.zeros((4,1))\n",
    "X\n"
   ]
  },
  {
   "cell_type": "code",
   "execution_count": 46,
   "id": "f42dbfd6-a283-4b2d-98c2-b995e209350a",
   "metadata": {},
   "outputs": [
    {
     "data": {
      "text/plain": [
       "array([[3.e+01],\n",
       "       [1.e-02]])"
      ]
     },
     "execution_count": 46,
     "metadata": {},
     "output_type": "execute_result"
    }
   ],
   "source": [
    "# control inputs\n",
    "\n",
    "u1 = 30. # linear velocity\n",
    "u2 = 0.01 # angular velocity\n",
    "\n",
    "inputs = np.array([[u1], \n",
    "                   [u2]])\n",
    "\n",
    "inputs"
   ]
  },
  {
   "cell_type": "code",
   "execution_count": 47,
   "id": "c9f6812d-e7e8-443b-9295-d1bba7e49d78",
   "metadata": {},
   "outputs": [
    {
     "data": {
      "image/png": "[encoded data removed]",
      "text/plain": [
       "<Figure size 432x288 with 1 Axes>"
      ]
     },
     "metadata": {
      "needs_background": "light"
     },
     "output_type": "display_data"
    }
   ],
   "source": [
    "# kinematic model\n",
    "\n",
    "L = 100. #length of axis from  \n",
    "\n",
    "def update_values(X):\n",
    "    X = X.astype(float)\n",
    "    A = np.array([[np.cos(X[2]),        0.],\n",
    "                  [np.sin(X[2]),        0.],\n",
    "                  [(1./L)*np.tan(X[3]), 0.],\n",
    "                  [0.,                  1.]])\n",
    "    return A\n",
    "\n",
    "\n",
    "for i in range (1, 100):\n",
    "    A = update_values(X)\n",
    "    X = X + A @ inputs\n",
    "    #print(X)\n",
    "    plt.plot(X[0],X[1],'ro')\n",
    "    \n",
    "\n",
    "plt.show()"
   ]
  },
  {
   "cell_type": "code",
   "execution_count": null,
   "id": "ff6a1307-7ba4-4c36-a605-b82a50946708",
   "metadata": {},
   "outputs": [],
   "source": []
  }
 ],
 "metadata": {
  "kernelspec": {
   "display_name": "Python 3 (ipykernel)",
   "language": "python",
   "name": "python3"
  },
  "language_info": {
   "codemirror_mode": {
    "name": "ipython",
    "version": 3
   },
   "file_extension": ".py",
   "mimetype": "text/x-python",
   "name": "python",
   "nbconvert_exporter": "python",
   "pygments_lexer": "ipython3",
   "version": "3.9.7"
  }
 },
 "nbformat": 4,
 "nbformat_minor": 5
}
